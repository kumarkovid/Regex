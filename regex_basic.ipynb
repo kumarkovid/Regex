{
 "cells": [
  {
   "cell_type": "code",
   "execution_count": 6,
   "metadata": {},
   "outputs": [
    {
     "data": {
      "text/plain": [
       "[('Grant Cornwell', 'College of Wooster', '2015', '911,651'),\n",
       " ('Marvin Krislov', 'Oberlin College', '2016', '829,913'),\n",
       " ('Mark Roosevelt', 'Antioch College,', '2015', '507,672'),\n",
       " ('Laurie Joyner', 'Wittenberg University', '2015', '463,504'),\n",
       " ('Richard Giese', 'University of Mount Union', '2015', '453,800')]"
      ]
     },
     "execution_count": 6,
     "metadata": {},
     "output_type": "execute_result"
    }
   ],
   "source": [
    "import re\n",
    "\n",
    "def extract(text):\n",
    "    result=[]\n",
    "    name_college=[]\n",
    "    year=[]\n",
    "    amount=[]\n",
    "    name_college=re.findall(r'(\\w+ \\w+), (.*)(,|\\s)[\\()]',text)\n",
    "    year=re.findall(r'.(\\d{4})',text)[1:]\n",
    "    amount = re.findall(r'(\\d{3},\\d{3})', text)\n",
    "    \n",
    "    for i in range(len(amount)):\n",
    "        result.append((name_college[i][0],name_college[i][1],year[i],amount[i]))\n",
    "    return result\n",
    "\n",
    "\n",
    "text='''Following is total compensation for other presidents at pr\n",
    "ivate colleges in Ohio in 2015:\n",
    "Grant Cornwell, College of Wooster (left in 2015): $911,651\n",
    "Marvin Krislov, Oberlin College (left in 2016): $829,913\n",
    "Mark Roosevelt, Antioch College, (left in 2015): $507,672\n",
    "Laurie Joyner, Wittenberg University (left in 2015): $463,504\n",
    "Richard Giese, University of Mount Union (left in 2015): $453,800'''\n",
    "\n",
    "extract(text)"
   ]
  }
 ],
 "metadata": {
  "kernelspec": {
   "display_name": "Python 3",
   "language": "python",
   "name": "python3"
  },
  "language_info": {
   "codemirror_mode": {
    "name": "ipython",
    "version": 3
   },
   "file_extension": ".py",
   "mimetype": "text/x-python",
   "name": "python",
   "nbconvert_exporter": "python",
   "pygments_lexer": "ipython3",
   "version": "3.7.0"
  }
 },
 "nbformat": 4,
 "nbformat_minor": 2
}
